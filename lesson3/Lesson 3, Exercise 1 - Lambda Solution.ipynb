{
 "cells": [
  {
   "cell_type": "markdown",
   "id": "9213d171",
   "metadata": {},
   "source": [
    "## Exercise Solution: Example Lambda Test Event"
   ]
  },
  {
   "cell_type": "code",
   "execution_count": 1,
   "id": "9efff689",
   "metadata": {},
   "outputs": [
    {
     "data": {
      "text/plain": [
       "{'s3-dataset-uri': 'udacity-sagemaker-solutiondata2021/l3e1/reviews_Musical_Instruments_5.json.zip'}"
      ]
     },
     "execution_count": 1,
     "metadata": {},
     "output_type": "execute_result"
    }
   ],
   "source": [
    "{\n",
    "  \"s3-dataset-uri\": \"udacity-sagemaker-solutiondata2021/l3e1/reviews_Musical_Instruments_5.json.zip\"\n",
    "}"
   ]
  },
  {
   "cell_type": "code",
   "execution_count": 5,
   "id": "d4332c2d-72a2-4231-9f14-93a8788c0780",
   "metadata": {},
   "outputs": [
    {
     "name": "stdout",
     "output_type": "stream",
     "text": [
      "file uploaded!\n"
     ]
    }
   ],
   "source": [
    "import boto3\n",
    "import os\n",
    "from botocore.exceptions import ClientError\n",
    "\n",
    "BUCKET = \"udacity-xin-mlworkflow\"\n",
    "s3_prefix = \"lesson3\"\n",
    "\n",
    "def upload_file_to_s3(file_name, s3_prefix):\n",
    "    object_name = os.path.join(s3_prefix, file_name)\n",
    "    s3_client = boto3.client('s3')\n",
    "    try:\n",
    "        response = s3_client.upload_file(file_name, BUCKET, object_name)\n",
    "    except ClientError as e:\n",
    "        logging.error(e)\n",
    "        return False\n",
    "\n",
    "# file_name = 'reviews_Patio_Lawn_and_Garden_5.json.zip'\n",
    "file_name = \"reviews_Musical_Instruments_5.json.zip\"\n",
    "upload_file_to_s3(file_name, s3_prefix)\n",
    "print(\"file uploaded!\")\n",
    "\n",
    "# s3_prefix = \"lesson3/exercise1\"\n",
    "# file_name = \"HelloBlazePreprocessLambda.py\"\n",
    "# upload_file_to_s3(file_name, s3_prefix)\n",
    "# print(\"file uploaded!\")\n"
   ]
  },
  {
   "cell_type": "code",
   "execution_count": 6,
   "id": "56d5d038-30e9-469a-8f5d-d28f54692019",
   "metadata": {},
   "outputs": [
    {
     "name": "stdout",
     "output_type": "stream",
     "text": [
      "file uploaded!\n"
     ]
    }
   ],
   "source": [
    "import zipfile\n",
    "\n",
    "# Create a new zip file and add files to it\n",
    "with zipfile.ZipFile('HelloBlazePreprocessLambda.zip', 'w') as zipf:\n",
    "    zipf.write('HelloBlazePreprocessLambda.py')  # Add single file\n",
    "\n",
    "s3_prefix = \"lesson3/exercise1\"\n",
    "file_name = \"HelloBlazePreprocessLambda.zip\"\n",
    "upload_file_to_s3(file_name, s3_prefix)\n",
    "print(\"file uploaded!\")"
   ]
  },
  {
   "cell_type": "markdown",
   "id": "600085e2",
   "metadata": {},
   "source": [
    "## Exercise Solution: Example Lambda Handler"
   ]
  },
  {
   "cell_type": "code",
   "execution_count": 3,
   "id": "010950e0",
   "metadata": {},
   "outputs": [],
   "source": [
    "from HelloBlazePreprocessLambda import preprocess\n",
    "\n",
    "def lambda_handler(event, context):\n",
    "    preprocess(event['s3-dataset-uri'])\n",
    "    return {\n",
    "        'statusCode': 200,\n",
    "        'body': \"Good to go!\"\n",
    "    }"
   ]
  },
  {
   "cell_type": "code",
   "execution_count": null,
   "id": "6da06b33",
   "metadata": {},
   "outputs": [],
   "source": []
  }
 ],
 "metadata": {
  "kernelspec": {
   "display_name": "conda_python3",
   "language": "python",
   "name": "conda_python3"
  },
  "language_info": {
   "codemirror_mode": {
    "name": "ipython",
    "version": 3
   },
   "file_extension": ".py",
   "mimetype": "text/x-python",
   "name": "python",
   "nbconvert_exporter": "python",
   "pygments_lexer": "ipython3",
   "version": "3.10.16"
  }
 },
 "nbformat": 4,
 "nbformat_minor": 5
}
