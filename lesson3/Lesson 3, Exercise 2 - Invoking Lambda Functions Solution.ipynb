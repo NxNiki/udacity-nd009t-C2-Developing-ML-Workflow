{
 "cells": [
  {
   "cell_type": "markdown",
   "id": "5cc872eb",
   "metadata": {},
   "source": [
    "# UDACITY : Designing Your First Workflow - Invoking Lambda Functions Solution"
   ]
  },
  {
   "cell_type": "markdown",
   "id": "be21ec8c",
   "metadata": {},
   "source": [
    "## Synchronous invocation Solution"
   ]
  },
  {
   "cell_type": "code",
   "execution_count": 6,
   "id": "31159809",
   "metadata": {},
   "outputs": [
    {
     "name": "stdout",
     "output_type": "stream",
     "text": [
      "{\n",
      "    \"StatusCode\": 200,\n",
      "    \"ExecutedVersion\": \"$LATEST\"\n",
      "}\n"
     ]
    }
   ],
   "source": [
    "%%bash \n",
    "aws lambda invoke --function-name exercise1-demo --payload '{\"s3uriKey\": \"udacity-xin-mlworkflow/lesson3/reviews_Musical_Instruments_5.json.zip\"}' response.json\n"
   ]
  },
  {
   "cell_type": "code",
   "execution_count": 8,
   "id": "2c877e9d-62bf-4fd3-8789-5ea6b1fe027d",
   "metadata": {},
   "outputs": [
    {
     "name": "stdout",
     "output_type": "stream",
     "text": [
      "file uploaded!\n"
     ]
    }
   ],
   "source": [
    "import boto3\n",
    "import os\n",
    "from botocore.exceptions import ClientError\n",
    "\n",
    "BUCKET = \"udacity-xin-mlworkflow\"\n",
    "s3_prefix = \"lesson3/exercise2\"\n",
    "\n",
    "def upload_file_to_s3(file_name, s3_prefix):\n",
    "    object_name = os.path.join(s3_prefix, file_name)\n",
    "    s3_client = boto3.client('s3')\n",
    "    try:\n",
    "        response = s3_client.upload_file(file_name, BUCKET, object_name)\n",
    "    except ClientError as e:\n",
    "        logging.error(e)\n",
    "        return False\n",
    "\n",
    "file_name = 'reviews_Patio_Lawn_and_Garden_5.json.zip'\n",
    "# file_name = \"reviews_Musical_Instruments_5.json.zip\"\n",
    "upload_file_to_s3(file_name, s3_prefix)\n",
    "print(\"file uploaded!\")"
   ]
  },
  {
   "cell_type": "markdown",
   "id": "f98ff13e",
   "metadata": {},
   "source": [
    "## Asynchronous invocation Solution"
   ]
  },
  {
   "cell_type": "code",
   "execution_count": null,
   "id": "0a0018ce",
   "metadata": {},
   "outputs": [],
   "source": [
    "import json\n",
    "import urllib\n",
    "from HelloBlazePreprocessLambda import preprocess\n",
    "\n",
    "def lambda_handler(event, context):\n",
    "    for r in event['Records']:\n",
    "        bucket = r['s3']['bucket']['name']\n",
    "        key = urllib.parse.unquote_plus(r['s3']['object']['key'], encoding='utf-8')\n",
    "        uri = \"/\".join([bucket, key])\n",
    "        preprocess(uri)\n",
    "    return {\n",
    "        'statusCode': 200,\n",
    "        'body': \"Good to go!\"\n",
    "    }"
   ]
  },
  {
   "cell_type": "code",
   "execution_count": null,
   "id": "5dcdb0dd",
   "metadata": {},
   "outputs": [],
   "source": []
  }
 ],
 "metadata": {
  "kernelspec": {
   "display_name": "conda_python3",
   "language": "python",
   "name": "conda_python3"
  },
  "language_info": {
   "codemirror_mode": {
    "name": "ipython",
    "version": 3
   },
   "file_extension": ".py",
   "mimetype": "text/x-python",
   "name": "python",
   "nbconvert_exporter": "python",
   "pygments_lexer": "ipython3",
   "version": "3.10.16"
  }
 },
 "nbformat": 4,
 "nbformat_minor": 5
}
